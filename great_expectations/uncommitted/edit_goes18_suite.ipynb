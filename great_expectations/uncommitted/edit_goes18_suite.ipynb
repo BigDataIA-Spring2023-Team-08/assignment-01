{
 "cells": [
  {
   "cell_type": "markdown",
   "id": "43b7c843",
   "metadata": {},
   "source": [
    "# Edit Your Expectation Suite\n",
    "Use this notebook to recreate and modify your expectation suite:\n",
    "\n",
    "**Expectation Suite Name**: `goes18_suite`\n"
   ]
  },
  {
   "cell_type": "code",
   "execution_count": 1,
   "id": "92346122",
   "metadata": {},
   "outputs": [
    {
     "name": "stderr",
     "output_type": "stream",
     "text": [
      "/Library/Frameworks/Python.framework/Versions/3.11/lib/python3.11/inspect.py:573: FutureWarning: pandas.Float64Index is deprecated and will be removed from pandas in a future version. Use pandas.Index with the appropriate dtype instead.\n",
      "  value = getter(object, key)\n",
      "/Library/Frameworks/Python.framework/Versions/3.11/lib/python3.11/inspect.py:573: FutureWarning: pandas.Int64Index is deprecated and will be removed from pandas in a future version. Use pandas.Index with the appropriate dtype instead.\n",
      "  value = getter(object, key)\n",
      "/Library/Frameworks/Python.framework/Versions/3.11/lib/python3.11/inspect.py:573: FutureWarning: pandas.UInt64Index is deprecated and will be removed from pandas in a future version. Use pandas.Index with the appropriate dtype instead.\n",
      "  value = getter(object, key)\n"
     ]
    },
    {
     "name": "stdout",
     "output_type": "stream",
     "text": [
      "2023-02-08T16:03:28-0500 - INFO - Great Expectations logging enabled at 20 level by JupyterUX module.\n",
      "2023-02-08T16:03:28-0500 - INFO - FileDataContext loading zep config\n",
      "2023-02-08T16:03:28-0500 - INFO - GxConfig.parse_yaml() failed with errors - [{'loc': ('xdatasources',), 'msg': 'field required', 'type': 'value_error.missing'}]\n",
      "2023-02-08T16:03:28-0500 - INFO - GxConfig.parse_yaml() returning empty `xdatasources`\n",
      "2023-02-08T16:03:28-0500 - INFO - Loading 'datasources' ->\n",
      "{}\n",
      "2023-02-08T16:03:28-0500 - INFO - Loaded 'datasources' ->\n",
      "{}\n",
      "Loaded ExpectationSuite \"goes18_suite\" containing 12 expectations.\n"
     ]
    }
   ],
   "source": [
    "import datetime\n",
    "\n",
    "import pandas as pd\n",
    "\n",
    "import great_expectations as gx\n",
    "import great_expectations.jupyter_ux\n",
    "from great_expectations.core.expectation_configuration import ExpectationConfiguration\n",
    "from great_expectations.data_context.types.resource_identifiers import ExpectationSuiteIdentifier\n",
    "from great_expectations.exceptions import DataContextError\n",
    "\n",
    "context = gx.get_context()\n",
    "\n",
    "\n",
    "# Feel free to change the name of your suite here. Renaming this will not remove the other one.\n",
    "expectation_suite_name = \"goes18_suite\"\n",
    "try:\n",
    "    suite = context.get_expectation_suite(expectation_suite_name=expectation_suite_name)\n",
    "    print(f'Loaded ExpectationSuite \"{suite.expectation_suite_name}\" containing {len(suite.expectations)} expectations.')\n",
    "except DataContextError:\n",
    "    suite = context.create_expectation_suite(expectation_suite_name=expectation_suite_name)\n",
    "    print(f'Created ExpectationSuite \"{suite.expectation_suite_name}\".')"
   ]
  },
  {
   "cell_type": "markdown",
   "id": "5ceec2ed",
   "metadata": {},
   "source": [
    "## Create & Edit Expectations\n",
    "\n",
    "\n",
    "You are adding Expectation configurations to the suite. Since you selected manual mode, there is no sample batch of data and no validation happens during this process. See our documentation for more info and examples: **[How to create a new Expectation Suite without a sample batch](https://docs.greatexpectations.io/docs/guides/expectations/how_to_create_and_edit_expectations_based_on_domain_knowledge_without_inspecting_data_directly)**.\n",
    "\n",
    "Note that if you do use interactive mode you may specify a sample batch of data to use when creating your Expectation Suite. You can then use a `validator` to get immediate feedback on your Expectations against your specified sample batch.\n",
    "\n",
    "\n",
    "You can see all the available expectations in the **[expectation gallery](https://greatexpectations.io/expectations)**."
   ]
  },
  {
   "cell_type": "markdown",
   "id": "a1e95939",
   "metadata": {},
   "source": [
    "### Table Expectation(s)"
   ]
  },
  {
   "cell_type": "code",
   "execution_count": 2,
   "id": "f400cf62",
   "metadata": {},
   "outputs": [
    {
     "data": {
      "text/plain": [
       "{\"expectation_type\": \"expect_table_row_count_to_be_between\", \"kwargs\": {\"max_value\": 4426, \"min_value\": 1}, \"meta\": {\"profiler_details\": {\"metric_configuration\": {\"domain_kwargs\": {}, \"metric_name\": \"table.row_count\", \"metric_value_kwargs\": null}, \"num_batches\": 1}}}"
      ]
     },
     "execution_count": 2,
     "metadata": {},
     "output_type": "execute_result"
    }
   ],
   "source": [
    "\n",
    "expectation_configuration = ExpectationConfiguration(**{\n",
    "  \"meta\": {\n",
    "    \"profiler_details\": {\n",
    "      \"metric_configuration\": {\n",
    "        \"domain_kwargs\": {},\n",
    "        \"metric_name\": \"table.row_count\",\n",
    "        \"metric_value_kwargs\": None\n",
    "      },\n",
    "      \"num_batches\": 1\n",
    "    }\n",
    "  },\n",
    "  \"expectation_type\": \"expect_table_row_count_to_be_between\",\n",
    "  \"kwargs\": {\n",
    "    \"max_value\": 4426,\n",
    "    \"min_value\": 1\n",
    "  }\n",
    "})\n",
    "suite.add_expectation(expectation_configuration=expectation_configuration)"
   ]
  },
  {
   "cell_type": "markdown",
   "id": "b2140466",
   "metadata": {},
   "source": [
    "### Column Expectation(s)"
   ]
  },
  {
   "cell_type": "markdown",
   "id": "694a4b21",
   "metadata": {},
   "source": [
    "#### `id`"
   ]
  },
  {
   "cell_type": "code",
   "execution_count": 3,
   "id": "04ce043a",
   "metadata": {},
   "outputs": [
    {
     "data": {
      "text/plain": [
       "{\"expectation_type\": \"expect_column_values_to_be_unique\", \"kwargs\": {\"column\": \"id\"}, \"meta\": {\"profiler_details\": {\"metric_configuration\": {\"domain_kwargs\": {\"column\": \"id\"}, \"metric_name\": \"column_values.unique.unexpected_count\", \"metric_value_kwargs\": null}, \"num_batches\": 1}}}"
      ]
     },
     "execution_count": 3,
     "metadata": {},
     "output_type": "execute_result"
    }
   ],
   "source": [
    "\n",
    "expectation_configuration = ExpectationConfiguration(**{\n",
    "  \"meta\": {\n",
    "    \"profiler_details\": {\n",
    "      \"metric_configuration\": {\n",
    "        \"domain_kwargs\": {\n",
    "          \"column\": \"id\"\n",
    "        },\n",
    "        \"metric_name\": \"column_values.unique.unexpected_count\",\n",
    "        \"metric_value_kwargs\": None\n",
    "      },\n",
    "      \"num_batches\": 1\n",
    "    }\n",
    "  },\n",
    "  \"expectation_type\": \"expect_column_values_to_be_unique\",\n",
    "  \"kwargs\": {\n",
    "    \"column\": \"id\"\n",
    "  }\n",
    "})\n",
    "suite.add_expectation(expectation_configuration=expectation_configuration)"
   ]
  },
  {
   "cell_type": "code",
   "execution_count": 4,
   "id": "796ee1de",
   "metadata": {},
   "outputs": [
    {
     "data": {
      "text/plain": [
       "{\"expectation_type\": \"expect_column_values_to_not_be_null\", \"kwargs\": {\"column\": \"id\"}, \"meta\": {\"profiler_details\": {\"metric_configuration\": {\"domain_kwargs\": {\"column\": \"id\"}, \"metric_name\": \"column_values.nonnull.unexpected_count\", \"metric_value_kwargs\": null}, \"num_batches\": 1}}}"
      ]
     },
     "execution_count": 4,
     "metadata": {},
     "output_type": "execute_result"
    }
   ],
   "source": [
    "\n",
    "expectation_configuration = ExpectationConfiguration(**{\n",
    "  \"meta\": {\n",
    "    \"profiler_details\": {\n",
    "      \"metric_configuration\": {\n",
    "        \"domain_kwargs\": {\n",
    "          \"column\": \"id\"\n",
    "        },\n",
    "        \"metric_name\": \"column_values.nonnull.unexpected_count\",\n",
    "        \"metric_value_kwargs\": None\n",
    "      },\n",
    "      \"num_batches\": 1\n",
    "    }\n",
    "  },\n",
    "  \"expectation_type\": \"expect_column_values_to_not_be_null\",\n",
    "  \"kwargs\": {\n",
    "    \"column\": \"id\"\n",
    "  }\n",
    "})\n",
    "suite.add_expectation(expectation_configuration=expectation_configuration)"
   ]
  },
  {
   "cell_type": "code",
   "execution_count": 5,
   "id": "ecf1a72b",
   "metadata": {},
   "outputs": [
    {
     "data": {
      "text/plain": [
       "{\"expectation_type\": \"expect_column_values_to_be_between\", \"kwargs\": {\"column\": \"id\", \"max_value\": 4426, \"min_value\": 1, \"mostly\": 1.0, \"strict_max\": false, \"strict_min\": false}, \"meta\": {\"profiler_details\": {\"column_max_values_range_estimator\": {\"metric_configuration\": {\"domain_kwargs\": {\"column\": \"id\"}, \"metric_name\": \"column.max\", \"metric_value_kwargs\": null}, \"num_batches\": 1}, \"column_min_values_range_estimator\": {\"metric_configuration\": {\"domain_kwargs\": {\"column\": \"id\"}, \"metric_name\": \"column.min\", \"metric_value_kwargs\": null}, \"num_batches\": 1}}}}"
      ]
     },
     "execution_count": 5,
     "metadata": {},
     "output_type": "execute_result"
    }
   ],
   "source": [
    "\n",
    "expectation_configuration = ExpectationConfiguration(**{\n",
    "  \"meta\": {\n",
    "    \"profiler_details\": {\n",
    "      \"column_max_values_range_estimator\": {\n",
    "        \"metric_configuration\": {\n",
    "          \"domain_kwargs\": {\n",
    "            \"column\": \"id\"\n",
    "          },\n",
    "          \"metric_name\": \"column.max\",\n",
    "          \"metric_value_kwargs\": None\n",
    "        },\n",
    "        \"num_batches\": 1\n",
    "      },\n",
    "      \"column_min_values_range_estimator\": {\n",
    "        \"metric_configuration\": {\n",
    "          \"domain_kwargs\": {\n",
    "            \"column\": \"id\"\n",
    "          },\n",
    "          \"metric_name\": \"column.min\",\n",
    "          \"metric_value_kwargs\": None\n",
    "        },\n",
    "        \"num_batches\": 1\n",
    "      }\n",
    "    }\n",
    "  },\n",
    "  \"expectation_type\": \"expect_column_values_to_be_between\",\n",
    "  \"kwargs\": {\n",
    "    \"column\": \"id\",\n",
    "    \"max_value\": 4426,\n",
    "    \"min_value\": 1,\n",
    "    \"mostly\": 1.0,\n",
    "    \"strict_max\": False,\n",
    "    \"strict_min\": False\n",
    "  }\n",
    "})\n",
    "suite.add_expectation(expectation_configuration=expectation_configuration)"
   ]
  },
  {
   "cell_type": "markdown",
   "id": "ff25e2ce",
   "metadata": {},
   "source": [
    "#### `product`"
   ]
  },
  {
   "cell_type": "code",
   "execution_count": 6,
   "id": "884cddd1",
   "metadata": {},
   "outputs": [
    {
     "data": {
      "text/plain": [
       "{\"expectation_type\": \"expect_column_values_to_not_be_null\", \"kwargs\": {\"column\": \"product\"}, \"meta\": {\"profiler_details\": {\"metric_configuration\": {\"domain_kwargs\": {\"column\": \"product\"}, \"metric_name\": \"column_values.nonnull.unexpected_count\", \"metric_value_kwargs\": null}, \"num_batches\": 1}}}"
      ]
     },
     "execution_count": 6,
     "metadata": {},
     "output_type": "execute_result"
    }
   ],
   "source": [
    "\n",
    "expectation_configuration = ExpectationConfiguration(**{\n",
    "  \"meta\": {\n",
    "    \"profiler_details\": {\n",
    "      \"metric_configuration\": {\n",
    "        \"domain_kwargs\": {\n",
    "          \"column\": \"product\"\n",
    "        },\n",
    "        \"metric_name\": \"column_values.nonnull.unexpected_count\",\n",
    "        \"metric_value_kwargs\": None\n",
    "      },\n",
    "      \"num_batches\": 1\n",
    "    }\n",
    "  },\n",
    "  \"expectation_type\": \"expect_column_values_to_not_be_null\",\n",
    "  \"kwargs\": {\n",
    "    \"column\": \"product\"\n",
    "  }\n",
    "})\n",
    "suite.add_expectation(expectation_configuration=expectation_configuration)"
   ]
  },
  {
   "cell_type": "code",
   "execution_count": 7,
   "id": "ff437ff4",
   "metadata": {},
   "outputs": [
    {
     "data": {
      "text/plain": [
       "{\"expectation_type\": \"expect_column_values_to_be_in_set\", \"kwargs\": {\"column\": \"product\", \"mostly\": 1.0, \"value_set\": [\"ABI-L1b-RadC\"]}, \"meta\": {\"profiler_details\": {\"metric_configuration\": {\"domain_kwargs\": {\"column\": \"product\"}, \"metric_name\": \"column.distinct_values\", \"metric_value_kwargs\": null}, \"num_batches\": 1, \"parse_strings_as_datetimes\": false}}}"
      ]
     },
     "execution_count": 7,
     "metadata": {},
     "output_type": "execute_result"
    }
   ],
   "source": [
    "\n",
    "expectation_configuration = ExpectationConfiguration(**{\n",
    "  \"meta\": {\n",
    "    \"profiler_details\": {\n",
    "      \"metric_configuration\": {\n",
    "        \"domain_kwargs\": {\n",
    "          \"column\": \"product\"\n",
    "        },\n",
    "        \"metric_name\": \"column.distinct_values\",\n",
    "        \"metric_value_kwargs\": None\n",
    "      },\n",
    "      \"num_batches\": 1,\n",
    "      \"parse_strings_as_datetimes\": False\n",
    "    }\n",
    "  },\n",
    "  \"expectation_type\": \"expect_column_values_to_be_in_set\",\n",
    "  \"kwargs\": {\n",
    "    \"column\": \"product\",\n",
    "    \"mostly\": 1.0,\n",
    "    \"value_set\": [\n",
    "      \"ABI-L1b-RadC\"\n",
    "    ]\n",
    "  }\n",
    "})\n",
    "suite.add_expectation(expectation_configuration=expectation_configuration)"
   ]
  },
  {
   "cell_type": "markdown",
   "id": "98af0548",
   "metadata": {},
   "source": [
    "#### `year`"
   ]
  },
  {
   "cell_type": "code",
   "execution_count": 8,
   "id": "b52d51b4",
   "metadata": {},
   "outputs": [
    {
     "data": {
      "text/plain": [
       "{\"expectation_type\": \"expect_column_values_to_not_be_null\", \"kwargs\": {\"column\": \"year\"}, \"meta\": {\"profiler_details\": {\"metric_configuration\": {\"domain_kwargs\": {\"column\": \"year\"}, \"metric_name\": \"column_values.nonnull.unexpected_count\", \"metric_value_kwargs\": null}, \"num_batches\": 1}}}"
      ]
     },
     "execution_count": 8,
     "metadata": {},
     "output_type": "execute_result"
    }
   ],
   "source": [
    "\n",
    "expectation_configuration = ExpectationConfiguration(**{\n",
    "  \"meta\": {\n",
    "    \"profiler_details\": {\n",
    "      \"metric_configuration\": {\n",
    "        \"domain_kwargs\": {\n",
    "          \"column\": \"year\"\n",
    "        },\n",
    "        \"metric_name\": \"column_values.nonnull.unexpected_count\",\n",
    "        \"metric_value_kwargs\": None\n",
    "      },\n",
    "      \"num_batches\": 1\n",
    "    }\n",
    "  },\n",
    "  \"expectation_type\": \"expect_column_values_to_not_be_null\",\n",
    "  \"kwargs\": {\n",
    "    \"column\": \"year\"\n",
    "  }\n",
    "})\n",
    "suite.add_expectation(expectation_configuration=expectation_configuration)"
   ]
  },
  {
   "cell_type": "code",
   "execution_count": 9,
   "id": "c336892c",
   "metadata": {},
   "outputs": [
    {
     "data": {
      "text/plain": [
       "{\"expectation_type\": \"expect_column_values_to_be_between\", \"kwargs\": {\"column\": \"year\", \"max_value\": 2023, \"min_value\": 2022, \"mostly\": 1.0, \"strict_max\": false, \"strict_min\": false}, \"meta\": {\"profiler_details\": {\"column_max_values_range_estimator\": {\"metric_configuration\": {\"domain_kwargs\": {\"column\": \"year\"}, \"metric_name\": \"column.max\", \"metric_value_kwargs\": null}, \"num_batches\": 1}, \"column_min_values_range_estimator\": {\"metric_configuration\": {\"domain_kwargs\": {\"column\": \"year\"}, \"metric_name\": \"column.min\", \"metric_value_kwargs\": null}, \"num_batches\": 1}}}}"
      ]
     },
     "execution_count": 9,
     "metadata": {},
     "output_type": "execute_result"
    }
   ],
   "source": [
    "\n",
    "expectation_configuration = ExpectationConfiguration(**{\n",
    "  \"meta\": {\n",
    "    \"profiler_details\": {\n",
    "      \"column_max_values_range_estimator\": {\n",
    "        \"metric_configuration\": {\n",
    "          \"domain_kwargs\": {\n",
    "            \"column\": \"year\"\n",
    "          },\n",
    "          \"metric_name\": \"column.max\",\n",
    "          \"metric_value_kwargs\": None\n",
    "        },\n",
    "        \"num_batches\": 1\n",
    "      },\n",
    "      \"column_min_values_range_estimator\": {\n",
    "        \"metric_configuration\": {\n",
    "          \"domain_kwargs\": {\n",
    "            \"column\": \"year\"\n",
    "          },\n",
    "          \"metric_name\": \"column.min\",\n",
    "          \"metric_value_kwargs\": None\n",
    "        },\n",
    "        \"num_batches\": 1\n",
    "      }\n",
    "    }\n",
    "  },\n",
    "  \"expectation_type\": \"expect_column_values_to_be_between\",\n",
    "  \"kwargs\": {\n",
    "    \"column\": \"year\",\n",
    "    \"max_value\": 2023,\n",
    "    \"min_value\": 2022,\n",
    "    \"mostly\": 1.0,\n",
    "    \"strict_max\": False,\n",
    "    \"strict_min\": False\n",
    "  }\n",
    "})\n",
    "suite.add_expectation(expectation_configuration=expectation_configuration)"
   ]
  },
  {
   "cell_type": "markdown",
   "id": "40f4f9e4",
   "metadata": {},
   "source": [
    "#### `day`"
   ]
  },
  {
   "cell_type": "code",
   "execution_count": 10,
   "id": "3c61cfd5",
   "metadata": {},
   "outputs": [
    {
     "data": {
      "text/plain": [
       "{\"expectation_type\": \"expect_column_values_to_not_be_null\", \"kwargs\": {\"column\": \"day\"}, \"meta\": {\"profiler_details\": {\"metric_configuration\": {\"domain_kwargs\": {\"column\": \"day\"}, \"metric_name\": \"column_values.nonnull.unexpected_count\", \"metric_value_kwargs\": null}, \"num_batches\": 1}}}"
      ]
     },
     "execution_count": 10,
     "metadata": {},
     "output_type": "execute_result"
    }
   ],
   "source": [
    "\n",
    "expectation_configuration = ExpectationConfiguration(**{\n",
    "  \"meta\": {\n",
    "    \"profiler_details\": {\n",
    "      \"metric_configuration\": {\n",
    "        \"domain_kwargs\": {\n",
    "          \"column\": \"day\"\n",
    "        },\n",
    "        \"metric_name\": \"column_values.nonnull.unexpected_count\",\n",
    "        \"metric_value_kwargs\": None\n",
    "      },\n",
    "      \"num_batches\": 1\n",
    "    }\n",
    "  },\n",
    "  \"expectation_type\": \"expect_column_values_to_not_be_null\",\n",
    "  \"kwargs\": {\n",
    "    \"column\": \"day\"\n",
    "  }\n",
    "})\n",
    "suite.add_expectation(expectation_configuration=expectation_configuration)"
   ]
  },
  {
   "cell_type": "code",
   "execution_count": 11,
   "id": "c6b7190d",
   "metadata": {},
   "outputs": [
    {
     "data": {
      "text/plain": [
       "{\"expectation_type\": \"expect_column_values_to_be_between\", \"kwargs\": {\"column\": \"day\", \"max_value\": 365, \"min_value\": 1, \"mostly\": 1.0, \"strict_max\": false, \"strict_min\": false}, \"meta\": {\"profiler_details\": {\"column_max_values_range_estimator\": {\"metric_configuration\": {\"domain_kwargs\": {\"column\": \"day\"}, \"metric_name\": \"column.max\", \"metric_value_kwargs\": null}, \"num_batches\": 1}, \"column_min_values_range_estimator\": {\"metric_configuration\": {\"domain_kwargs\": {\"column\": \"day\"}, \"metric_name\": \"column.min\", \"metric_value_kwargs\": null}, \"num_batches\": 1}}}}"
      ]
     },
     "execution_count": 11,
     "metadata": {},
     "output_type": "execute_result"
    }
   ],
   "source": [
    "\n",
    "expectation_configuration = ExpectationConfiguration(**{\n",
    "  \"meta\": {\n",
    "    \"profiler_details\": {\n",
    "      \"column_max_values_range_estimator\": {\n",
    "        \"metric_configuration\": {\n",
    "          \"domain_kwargs\": {\n",
    "            \"column\": \"day\"\n",
    "          },\n",
    "          \"metric_name\": \"column.max\",\n",
    "          \"metric_value_kwargs\": None\n",
    "        },\n",
    "        \"num_batches\": 1\n",
    "      },\n",
    "      \"column_min_values_range_estimator\": {\n",
    "        \"metric_configuration\": {\n",
    "          \"domain_kwargs\": {\n",
    "            \"column\": \"day\"\n",
    "          },\n",
    "          \"metric_name\": \"column.min\",\n",
    "          \"metric_value_kwargs\": None\n",
    "        },\n",
    "        \"num_batches\": 1\n",
    "      }\n",
    "    }\n",
    "  },\n",
    "  \"expectation_type\": \"expect_column_values_to_be_between\",\n",
    "  \"kwargs\": {\n",
    "    \"column\": \"day\",\n",
    "    \"max_value\": 365,\n",
    "    \"min_value\": 1,\n",
    "    \"mostly\": 1.0,\n",
    "    \"strict_max\": False,\n",
    "    \"strict_min\": False\n",
    "  }\n",
    "})\n",
    "suite.add_expectation(expectation_configuration=expectation_configuration)"
   ]
  },
  {
   "cell_type": "markdown",
   "id": "8a234e32",
   "metadata": {},
   "source": [
    "#### `hour`"
   ]
  },
  {
   "cell_type": "code",
   "execution_count": 12,
   "id": "dbf55ff0",
   "metadata": {},
   "outputs": [
    {
     "data": {
      "text/plain": [
       "{\"expectation_type\": \"expect_column_values_to_not_be_null\", \"kwargs\": {\"column\": \"hour\"}, \"meta\": {\"profiler_details\": {\"metric_configuration\": {\"domain_kwargs\": {\"column\": \"hour\"}, \"metric_name\": \"column_values.nonnull.unexpected_count\", \"metric_value_kwargs\": null}, \"num_batches\": 1}}}"
      ]
     },
     "execution_count": 12,
     "metadata": {},
     "output_type": "execute_result"
    }
   ],
   "source": [
    "\n",
    "expectation_configuration = ExpectationConfiguration(**{\n",
    "  \"meta\": {\n",
    "    \"profiler_details\": {\n",
    "      \"metric_configuration\": {\n",
    "        \"domain_kwargs\": {\n",
    "          \"column\": \"hour\"\n",
    "        },\n",
    "        \"metric_name\": \"column_values.nonnull.unexpected_count\",\n",
    "        \"metric_value_kwargs\": None\n",
    "      },\n",
    "      \"num_batches\": 1\n",
    "    }\n",
    "  },\n",
    "  \"expectation_type\": \"expect_column_values_to_not_be_null\",\n",
    "  \"kwargs\": {\n",
    "    \"column\": \"hour\"\n",
    "  }\n",
    "})\n",
    "suite.add_expectation(expectation_configuration=expectation_configuration)"
   ]
  },
  {
   "cell_type": "code",
   "execution_count": 13,
   "id": "56194ade",
   "metadata": {},
   "outputs": [
    {
     "data": {
      "text/plain": [
       "{\"expectation_type\": \"expect_column_values_to_be_between\", \"kwargs\": {\"column\": \"hour\", \"max_value\": 23, \"min_value\": 0, \"mostly\": 1.0, \"strict_max\": false, \"strict_min\": false}, \"meta\": {\"profiler_details\": {\"column_max_values_range_estimator\": {\"metric_configuration\": {\"domain_kwargs\": {\"column\": \"hour\"}, \"metric_name\": \"column.max\", \"metric_value_kwargs\": null}, \"num_batches\": 1}, \"column_min_values_range_estimator\": {\"metric_configuration\": {\"domain_kwargs\": {\"column\": \"hour\"}, \"metric_name\": \"column.min\", \"metric_value_kwargs\": null}, \"num_batches\": 1}}}}"
      ]
     },
     "execution_count": 13,
     "metadata": {},
     "output_type": "execute_result"
    }
   ],
   "source": [
    "\n",
    "expectation_configuration = ExpectationConfiguration(**{\n",
    "  \"meta\": {\n",
    "    \"profiler_details\": {\n",
    "      \"column_max_values_range_estimator\": {\n",
    "        \"metric_configuration\": {\n",
    "          \"domain_kwargs\": {\n",
    "            \"column\": \"hour\"\n",
    "          },\n",
    "          \"metric_name\": \"column.max\",\n",
    "          \"metric_value_kwargs\": None\n",
    "        },\n",
    "        \"num_batches\": 1\n",
    "      },\n",
    "      \"column_min_values_range_estimator\": {\n",
    "        \"metric_configuration\": {\n",
    "          \"domain_kwargs\": {\n",
    "            \"column\": \"hour\"\n",
    "          },\n",
    "          \"metric_name\": \"column.min\",\n",
    "          \"metric_value_kwargs\": None\n",
    "        },\n",
    "        \"num_batches\": 1\n",
    "      }\n",
    "    }\n",
    "  },\n",
    "  \"expectation_type\": \"expect_column_values_to_be_between\",\n",
    "  \"kwargs\": {\n",
    "    \"column\": \"hour\",\n",
    "    \"max_value\": 23,\n",
    "    \"min_value\": 0,\n",
    "    \"mostly\": 1.0,\n",
    "    \"strict_max\": False,\n",
    "    \"strict_min\": False\n",
    "  }\n",
    "})\n",
    "suite.add_expectation(expectation_configuration=expectation_configuration)"
   ]
  },
  {
   "cell_type": "markdown",
   "id": "e75b6f77",
   "metadata": {},
   "source": [
    "## Review & Save Your Expectations\n",
    "\n",
    "Let's save the expectation suite as a JSON file in the `great_expectations/expectations` directory of your project.\n",
    "\n",
    "Let's now rebuild your Data Docs, which helps you communicate about your data with both machines and humans."
   ]
  },
  {
   "cell_type": "code",
   "execution_count": 14,
   "id": "23a26532",
   "metadata": {},
   "outputs": [
    {
     "name": "stdout",
     "output_type": "stream",
     "text": [
      "{\n",
      "  \"expectations\": [\n",
      "    {\n",
      "      \"expectation_type\": \"expect_table_row_count_to_be_between\",\n",
      "      \"kwargs\": {\n",
      "        \"max_value\": 4426,\n",
      "        \"min_value\": 1\n",
      "      },\n",
      "      \"meta\": {\n",
      "        \"profiler_details\": {\n",
      "          \"metric_configuration\": {\n",
      "            \"domain_kwargs\": {},\n",
      "            \"metric_name\": \"table.row_count\",\n",
      "            \"metric_value_kwargs\": null\n",
      "          },\n",
      "          \"num_batches\": 1\n",
      "        }\n",
      "      }\n",
      "    },\n",
      "    {\n",
      "      \"expectation_type\": \"expect_column_values_to_be_unique\",\n",
      "      \"kwargs\": {\n",
      "        \"column\": \"id\"\n",
      "      },\n",
      "      \"meta\": {\n",
      "        \"profiler_details\": {\n",
      "          \"metric_configuration\": {\n",
      "            \"domain_kwargs\": {\n",
      "              \"column\": \"id\"\n",
      "            },\n",
      "            \"metric_name\": \"column_values.unique.unexpected_count\",\n",
      "            \"metric_value_kwargs\": null\n",
      "          },\n",
      "          \"num_batches\": 1\n",
      "        }\n",
      "      }\n",
      "    },\n",
      "    {\n",
      "      \"expectation_type\": \"expect_column_values_to_not_be_null\",\n",
      "      \"kwargs\": {\n",
      "        \"column\": \"id\"\n",
      "      },\n",
      "      \"meta\": {\n",
      "        \"profiler_details\": {\n",
      "          \"metric_configuration\": {\n",
      "            \"domain_kwargs\": {\n",
      "              \"column\": \"id\"\n",
      "            },\n",
      "            \"metric_name\": \"column_values.nonnull.unexpected_count\",\n",
      "            \"metric_value_kwargs\": null\n",
      "          },\n",
      "          \"num_batches\": 1\n",
      "        }\n",
      "      }\n",
      "    },\n",
      "    {\n",
      "      \"expectation_type\": \"expect_column_values_to_not_be_null\",\n",
      "      \"kwargs\": {\n",
      "        \"column\": \"product\"\n",
      "      },\n",
      "      \"meta\": {\n",
      "        \"profiler_details\": {\n",
      "          \"metric_configuration\": {\n",
      "            \"domain_kwargs\": {\n",
      "              \"column\": \"product\"\n",
      "            },\n",
      "            \"metric_name\": \"column_values.nonnull.unexpected_count\",\n",
      "            \"metric_value_kwargs\": null\n",
      "          },\n",
      "          \"num_batches\": 1\n",
      "        }\n",
      "      }\n",
      "    },\n",
      "    {\n",
      "      \"expectation_type\": \"expect_column_values_to_not_be_null\",\n",
      "      \"kwargs\": {\n",
      "        \"column\": \"year\"\n",
      "      },\n",
      "      \"meta\": {\n",
      "        \"profiler_details\": {\n",
      "          \"metric_configuration\": {\n",
      "            \"domain_kwargs\": {\n",
      "              \"column\": \"year\"\n",
      "            },\n",
      "            \"metric_name\": \"column_values.nonnull.unexpected_count\",\n",
      "            \"metric_value_kwargs\": null\n",
      "          },\n",
      "          \"num_batches\": 1\n",
      "        }\n",
      "      }\n",
      "    },\n",
      "    {\n",
      "      \"expectation_type\": \"expect_column_values_to_not_be_null\",\n",
      "      \"kwargs\": {\n",
      "        \"column\": \"day\"\n",
      "      },\n",
      "      \"meta\": {\n",
      "        \"profiler_details\": {\n",
      "          \"metric_configuration\": {\n",
      "            \"domain_kwargs\": {\n",
      "              \"column\": \"day\"\n",
      "            },\n",
      "            \"metric_name\": \"column_values.nonnull.unexpected_count\",\n",
      "            \"metric_value_kwargs\": null\n",
      "          },\n",
      "          \"num_batches\": 1\n",
      "        }\n",
      "      }\n",
      "    },\n",
      "    {\n",
      "      \"expectation_type\": \"expect_column_values_to_not_be_null\",\n",
      "      \"kwargs\": {\n",
      "        \"column\": \"hour\"\n",
      "      },\n",
      "      \"meta\": {\n",
      "        \"profiler_details\": {\n",
      "          \"metric_configuration\": {\n",
      "            \"domain_kwargs\": {\n",
      "              \"column\": \"hour\"\n",
      "            },\n",
      "            \"metric_name\": \"column_values.nonnull.unexpected_count\",\n",
      "            \"metric_value_kwargs\": null\n",
      "          },\n",
      "          \"num_batches\": 1\n",
      "        }\n",
      "      }\n",
      "    },\n",
      "    {\n",
      "      \"expectation_type\": \"expect_column_values_to_be_between\",\n",
      "      \"kwargs\": {\n",
      "        \"column\": \"id\",\n",
      "        \"max_value\": 4426,\n",
      "        \"min_value\": 1,\n",
      "        \"mostly\": 1.0,\n",
      "        \"strict_max\": false,\n",
      "        \"strict_min\": false\n",
      "      },\n",
      "      \"meta\": {\n",
      "        \"profiler_details\": {\n",
      "          \"column_max_values_range_estimator\": {\n",
      "            \"metric_configuration\": {\n",
      "              \"domain_kwargs\": {\n",
      "                \"column\": \"id\"\n",
      "              },\n",
      "              \"metric_name\": \"column.max\",\n",
      "              \"metric_value_kwargs\": null\n",
      "            },\n",
      "            \"num_batches\": 1\n",
      "          },\n",
      "          \"column_min_values_range_estimator\": {\n",
      "            \"metric_configuration\": {\n",
      "              \"domain_kwargs\": {\n",
      "                \"column\": \"id\"\n",
      "              },\n",
      "              \"metric_name\": \"column.min\",\n",
      "              \"metric_value_kwargs\": null\n",
      "            },\n",
      "            \"num_batches\": 1\n",
      "          }\n",
      "        }\n",
      "      }\n",
      "    },\n",
      "    {\n",
      "      \"expectation_type\": \"expect_column_values_to_be_between\",\n",
      "      \"kwargs\": {\n",
      "        \"column\": \"year\",\n",
      "        \"max_value\": 2023,\n",
      "        \"min_value\": 2022,\n",
      "        \"mostly\": 1.0,\n",
      "        \"strict_max\": false,\n",
      "        \"strict_min\": false\n",
      "      },\n",
      "      \"meta\": {\n",
      "        \"profiler_details\": {\n",
      "          \"column_max_values_range_estimator\": {\n",
      "            \"metric_configuration\": {\n",
      "              \"domain_kwargs\": {\n",
      "                \"column\": \"year\"\n",
      "              },\n",
      "              \"metric_name\": \"column.max\",\n",
      "              \"metric_value_kwargs\": null\n",
      "            },\n",
      "            \"num_batches\": 1\n",
      "          },\n",
      "          \"column_min_values_range_estimator\": {\n",
      "            \"metric_configuration\": {\n",
      "              \"domain_kwargs\": {\n",
      "                \"column\": \"year\"\n",
      "              },\n",
      "              \"metric_name\": \"column.min\",\n",
      "              \"metric_value_kwargs\": null\n",
      "            },\n",
      "            \"num_batches\": 1\n",
      "          }\n",
      "        }\n",
      "      }\n",
      "    },\n",
      "    {\n",
      "      \"expectation_type\": \"expect_column_values_to_be_between\",\n",
      "      \"kwargs\": {\n",
      "        \"column\": \"day\",\n",
      "        \"max_value\": 365,\n",
      "        \"min_value\": 1,\n",
      "        \"mostly\": 1.0,\n",
      "        \"strict_max\": false,\n",
      "        \"strict_min\": false\n",
      "      },\n",
      "      \"meta\": {\n",
      "        \"profiler_details\": {\n",
      "          \"column_max_values_range_estimator\": {\n",
      "            \"metric_configuration\": {\n",
      "              \"domain_kwargs\": {\n",
      "                \"column\": \"day\"\n",
      "              },\n",
      "              \"metric_name\": \"column.max\",\n",
      "              \"metric_value_kwargs\": null\n",
      "            },\n",
      "            \"num_batches\": 1\n",
      "          },\n",
      "          \"column_min_values_range_estimator\": {\n",
      "            \"metric_configuration\": {\n",
      "              \"domain_kwargs\": {\n",
      "                \"column\": \"day\"\n",
      "              },\n",
      "              \"metric_name\": \"column.min\",\n",
      "              \"metric_value_kwargs\": null\n",
      "            },\n",
      "            \"num_batches\": 1\n",
      "          }\n",
      "        }\n",
      "      }\n",
      "    },\n",
      "    {\n",
      "      \"expectation_type\": \"expect_column_values_to_be_between\",\n",
      "      \"kwargs\": {\n",
      "        \"column\": \"hour\",\n",
      "        \"max_value\": 23,\n",
      "        \"min_value\": 0,\n",
      "        \"mostly\": 1.0,\n",
      "        \"strict_max\": false,\n",
      "        \"strict_min\": false\n",
      "      },\n",
      "      \"meta\": {\n",
      "        \"profiler_details\": {\n",
      "          \"column_max_values_range_estimator\": {\n",
      "            \"metric_configuration\": {\n",
      "              \"domain_kwargs\": {\n",
      "                \"column\": \"hour\"\n",
      "              },\n",
      "              \"metric_name\": \"column.max\",\n",
      "              \"metric_value_kwargs\": null\n",
      "            },\n",
      "            \"num_batches\": 1\n",
      "          },\n",
      "          \"column_min_values_range_estimator\": {\n",
      "            \"metric_configuration\": {\n",
      "              \"domain_kwargs\": {\n",
      "                \"column\": \"hour\"\n",
      "              },\n",
      "              \"metric_name\": \"column.min\",\n",
      "              \"metric_value_kwargs\": null\n",
      "            },\n",
      "            \"num_batches\": 1\n",
      "          }\n",
      "        }\n",
      "      }\n",
      "    },\n",
      "    {\n",
      "      \"expectation_type\": \"expect_column_values_to_be_in_set\",\n",
      "      \"kwargs\": {\n",
      "        \"column\": \"product\",\n",
      "        \"mostly\": 1.0,\n",
      "        \"value_set\": [\n",
      "          \"ABI-L1b-RadC\"\n",
      "        ]\n",
      "      },\n",
      "      \"meta\": {\n",
      "        \"profiler_details\": {\n",
      "          \"metric_configuration\": {\n",
      "            \"domain_kwargs\": {\n",
      "              \"column\": \"product\"\n",
      "            },\n",
      "            \"metric_name\": \"column.distinct_values\",\n",
      "            \"metric_value_kwargs\": null\n",
      "          },\n",
      "          \"num_batches\": 1,\n",
      "          \"parse_strings_as_datetimes\": false\n",
      "        }\n",
      "      }\n",
      "    }\n",
      "  ],\n",
      "  \"data_asset_type\": null,\n",
      "  \"ge_cloud_id\": null,\n",
      "  \"meta\": {\n",
      "    \"citations\": [\n",
      "      {\n",
      "        \"citation_date\": \"2023-02-08T17:38:55.979455Z\",\n",
      "        \"comment\": \"Created by effective Rule-Based Profiler of OnboardingDataAssistant with the configuration included.\\n\"\n",
      "      }\n",
      "    ],\n",
      "    \"great_expectations_version\": \"0.15.47\"\n",
      "  },\n",
      "  \"expectation_suite_name\": \"goes18_suite\"\n",
      "}\n"
     ]
    }
   ],
   "source": [
    "print(context.get_expectation_suite(expectation_suite_name=expectation_suite_name))\n",
    "context.save_expectation_suite(expectation_suite=suite, expectation_suite_name=expectation_suite_name)\n",
    "\n",
    "suite_identifier = ExpectationSuiteIdentifier(expectation_suite_name=expectation_suite_name)\n",
    "context.build_data_docs(resource_identifiers=[suite_identifier])\n",
    "context.open_data_docs(resource_identifier=suite_identifier)"
   ]
  }
 ],
 "metadata": {
  "kernelspec": {
   "display_name": "Python 3 (ipykernel)",
   "language": "python",
   "name": "python3"
  },
  "language_info": {
   "codemirror_mode": {
    "name": "ipython",
    "version": 3
   },
   "file_extension": ".py",
   "mimetype": "text/x-python",
   "name": "python",
   "nbconvert_exporter": "python",
   "pygments_lexer": "ipython3",
   "version": "3.11.1"
  }
 },
 "nbformat": 4,
 "nbformat_minor": 5
}
