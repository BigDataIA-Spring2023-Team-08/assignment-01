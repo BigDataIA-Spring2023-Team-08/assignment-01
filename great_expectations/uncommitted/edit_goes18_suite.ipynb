{
 "cells": [
  {
   "cell_type": "markdown",
   "id": "126a2866",
   "metadata": {},
   "source": [
    "# Edit Your Expectation Suite\n",
    "Use this notebook to recreate and modify your expectation suite:\n",
    "\n",
    "**Expectation Suite Name**: `goes18_suite`\n"
   ]
  },
  {
   "cell_type": "code",
   "execution_count": 1,
   "id": "3cde3c16",
   "metadata": {},
   "outputs": [
    {
     "name": "stderr",
     "output_type": "stream",
     "text": [
      "/Library/Frameworks/Python.framework/Versions/3.11/lib/python3.11/inspect.py:573: FutureWarning: pandas.Float64Index is deprecated and will be removed from pandas in a future version. Use pandas.Index with the appropriate dtype instead.\n",
      "  value = getter(object, key)\n",
      "/Library/Frameworks/Python.framework/Versions/3.11/lib/python3.11/inspect.py:573: FutureWarning: pandas.Int64Index is deprecated and will be removed from pandas in a future version. Use pandas.Index with the appropriate dtype instead.\n",
      "  value = getter(object, key)\n",
      "/Library/Frameworks/Python.framework/Versions/3.11/lib/python3.11/inspect.py:573: FutureWarning: pandas.UInt64Index is deprecated and will be removed from pandas in a future version. Use pandas.Index with the appropriate dtype instead.\n",
      "  value = getter(object, key)\n"
     ]
    },
    {
     "name": "stdout",
     "output_type": "stream",
     "text": [
      "2023-02-09T16:13:45-0500 - INFO - Great Expectations logging enabled at 20 level by JupyterUX module.\n",
      "2023-02-09T16:13:45-0500 - INFO - FileDataContext loading zep config\n",
      "2023-02-09T16:13:45-0500 - INFO - GxConfig.parse_yaml() failed with errors - [{'loc': ('xdatasources',), 'msg': 'field required', 'type': 'value_error.missing'}]\n",
      "2023-02-09T16:13:45-0500 - INFO - GxConfig.parse_yaml() returning empty `xdatasources`\n",
      "2023-02-09T16:13:45-0500 - INFO - Loading 'datasources' ->\n",
      "{}\n",
      "2023-02-09T16:13:45-0500 - INFO - Loaded 'datasources' ->\n",
      "{}\n",
      "Loaded ExpectationSuite \"goes18_suite\" containing 14 expectations.\n"
     ]
    }
   ],
   "source": [
    "import datetime\n",
    "\n",
    "import pandas as pd\n",
    "\n",
    "import great_expectations as gx\n",
    "import great_expectations.jupyter_ux\n",
    "from great_expectations.core.expectation_configuration import ExpectationConfiguration\n",
    "from great_expectations.data_context.types.resource_identifiers import ExpectationSuiteIdentifier\n",
    "from great_expectations.exceptions import DataContextError\n",
    "\n",
    "context = gx.get_context()\n",
    "\n",
    "\n",
    "# Feel free to change the name of your suite here. Renaming this will not remove the other one.\n",
    "expectation_suite_name = \"goes18_suite\"\n",
    "try:\n",
    "    suite = context.get_expectation_suite(expectation_suite_name=expectation_suite_name)\n",
    "    print(f'Loaded ExpectationSuite \"{suite.expectation_suite_name}\" containing {len(suite.expectations)} expectations.')\n",
    "except DataContextError:\n",
    "    suite = context.create_expectation_suite(expectation_suite_name=expectation_suite_name)\n",
    "    print(f'Created ExpectationSuite \"{suite.expectation_suite_name}\".')"
   ]
  },
  {
   "cell_type": "markdown",
   "id": "04b3479e",
   "metadata": {},
   "source": [
    "## Create & Edit Expectations\n",
    "\n",
    "\n",
    "You are adding Expectation configurations to the suite. Since you selected manual mode, there is no sample batch of data and no validation happens during this process. See our documentation for more info and examples: **[How to create a new Expectation Suite without a sample batch](https://docs.greatexpectations.io/docs/guides/expectations/how_to_create_and_edit_expectations_based_on_domain_knowledge_without_inspecting_data_directly)**.\n",
    "\n",
    "Note that if you do use interactive mode you may specify a sample batch of data to use when creating your Expectation Suite. You can then use a `validator` to get immediate feedback on your Expectations against your specified sample batch.\n",
    "\n",
    "\n",
    "You can see all the available expectations in the **[expectation gallery](https://greatexpectations.io/expectations)**."
   ]
  },
  {
   "cell_type": "markdown",
   "id": "e781c55b",
   "metadata": {},
   "source": [
    "### Table Expectation(s)"
   ]
  },
  {
   "cell_type": "code",
   "execution_count": 2,
   "id": "f6b59ea3",
   "metadata": {},
   "outputs": [
    {
     "data": {
      "text/plain": [
       "{\"meta\": {\"profiler_details\": {\"metric_configuration\": {\"domain_kwargs\": {}, \"metric_name\": \"table.row_count\", \"metric_value_kwargs\": null}, \"num_batches\": 1}}, \"kwargs\": {\"max_value\": 10000, \"min_value\": 0}, \"expectation_type\": \"expect_table_row_count_to_be_between\"}"
      ]
     },
     "execution_count": 2,
     "metadata": {},
     "output_type": "execute_result"
    }
   ],
   "source": [
    "\n",
    "expectation_configuration = ExpectationConfiguration(**{\n",
    "  \"meta\": {\n",
    "    \"profiler_details\": {\n",
    "      \"metric_configuration\": {\n",
    "        \"domain_kwargs\": {},\n",
    "        \"metric_name\": \"table.row_count\",\n",
    "        \"metric_value_kwargs\": None\n",
    "      },\n",
    "      \"num_batches\": 1\n",
    "    }\n",
    "  },\n",
    "  \"expectation_type\": \"expect_table_row_count_to_be_between\",\n",
    "  \"kwargs\": {\n",
    "    \"max_value\": 10000,\n",
    "    \"min_value\": 0\n",
    "  }\n",
    "})\n",
    "suite.add_expectation(expectation_configuration=expectation_configuration)"
   ]
  },
  {
   "cell_type": "code",
   "execution_count": 3,
   "id": "c927dd0f",
   "metadata": {},
   "outputs": [
    {
     "data": {
      "text/plain": [
       "{\"meta\": {\"profiler_details\": {\"success_ratio\": 1.0}}, \"kwargs\": {\"column_set\": [\"day\", \"id\", \"hour\", \"product\", \"year\", \"Unnamed: 0\"]}, \"expectation_type\": \"expect_table_columns_to_match_set\"}"
      ]
     },
     "execution_count": 3,
     "metadata": {},
     "output_type": "execute_result"
    }
   ],
   "source": [
    "\n",
    "expectation_configuration = ExpectationConfiguration(**{\n",
    "  \"meta\": {\n",
    "    \"profiler_details\": {\n",
    "      \"success_ratio\": 1.0\n",
    "    }\n",
    "  },\n",
    "  \"expectation_type\": \"expect_table_columns_to_match_set\",\n",
    "  \"kwargs\": {\n",
    "    \"column_set\": [\n",
    "      \"day\",\n",
    "      \"id\",\n",
    "      \"hour\",\n",
    "      \"product\",\n",
    "      \"year\",\n",
    "      \"Unnamed: 0\"\n",
    "    ]\n",
    "  }\n",
    "})\n",
    "suite.add_expectation(expectation_configuration=expectation_configuration)"
   ]
  },
  {
   "cell_type": "markdown",
   "id": "36e5d964",
   "metadata": {},
   "source": [
    "### Column Expectation(s)"
   ]
  },
  {
   "cell_type": "markdown",
   "id": "561b19eb",
   "metadata": {},
   "source": [
    "#### `id`"
   ]
  },
  {
   "cell_type": "code",
   "execution_count": 4,
   "id": "4e7deba2",
   "metadata": {},
   "outputs": [
    {
     "data": {
      "text/plain": [
       "{\"meta\": {\"profiler_details\": {\"metric_configuration\": {\"domain_kwargs\": {\"column\": \"id\"}, \"metric_name\": \"column_values.unique.unexpected_count\", \"metric_value_kwargs\": null}, \"num_batches\": 1}}, \"kwargs\": {\"column\": \"id\"}, \"expectation_type\": \"expect_column_values_to_be_unique\"}"
      ]
     },
     "execution_count": 4,
     "metadata": {},
     "output_type": "execute_result"
    }
   ],
   "source": [
    "\n",
    "expectation_configuration = ExpectationConfiguration(**{\n",
    "  \"meta\": {\n",
    "    \"profiler_details\": {\n",
    "      \"metric_configuration\": {\n",
    "        \"domain_kwargs\": {\n",
    "          \"column\": \"id\"\n",
    "        },\n",
    "        \"metric_name\": \"column_values.unique.unexpected_count\",\n",
    "        \"metric_value_kwargs\": None\n",
    "      },\n",
    "      \"num_batches\": 1\n",
    "    }\n",
    "  },\n",
    "  \"expectation_type\": \"expect_column_values_to_be_unique\",\n",
    "  \"kwargs\": {\n",
    "    \"column\": \"id\"\n",
    "  }\n",
    "})\n",
    "suite.add_expectation(expectation_configuration=expectation_configuration)"
   ]
  },
  {
   "cell_type": "code",
   "execution_count": 5,
   "id": "c4785255",
   "metadata": {},
   "outputs": [
    {
     "data": {
      "text/plain": [
       "{\"meta\": {\"profiler_details\": {\"metric_configuration\": {\"domain_kwargs\": {\"column\": \"id\"}, \"metric_name\": \"column_values.nonnull.unexpected_count\", \"metric_value_kwargs\": null}, \"num_batches\": 1}}, \"kwargs\": {\"column\": \"id\"}, \"expectation_type\": \"expect_column_values_to_not_be_null\"}"
      ]
     },
     "execution_count": 5,
     "metadata": {},
     "output_type": "execute_result"
    }
   ],
   "source": [
    "\n",
    "expectation_configuration = ExpectationConfiguration(**{\n",
    "  \"meta\": {\n",
    "    \"profiler_details\": {\n",
    "      \"metric_configuration\": {\n",
    "        \"domain_kwargs\": {\n",
    "          \"column\": \"id\"\n",
    "        },\n",
    "        \"metric_name\": \"column_values.nonnull.unexpected_count\",\n",
    "        \"metric_value_kwargs\": None\n",
    "      },\n",
    "      \"num_batches\": 1\n",
    "    }\n",
    "  },\n",
    "  \"expectation_type\": \"expect_column_values_to_not_be_null\",\n",
    "  \"kwargs\": {\n",
    "    \"column\": \"id\"\n",
    "  }\n",
    "})\n",
    "suite.add_expectation(expectation_configuration=expectation_configuration)"
   ]
  },
  {
   "cell_type": "code",
   "execution_count": 6,
   "id": "d6023121",
   "metadata": {},
   "outputs": [
    {
     "data": {
      "text/plain": [
       "{\"meta\": {\"profiler_details\": {\"column_max_values_range_estimator\": {\"metric_configuration\": {\"domain_kwargs\": {\"column\": \"id\"}, \"metric_name\": \"column.max\", \"metric_value_kwargs\": null}, \"num_batches\": 1}, \"column_min_values_range_estimator\": {\"metric_configuration\": {\"domain_kwargs\": {\"column\": \"id\"}, \"metric_name\": \"column.min\", \"metric_value_kwargs\": null}, \"num_batches\": 1}}}, \"kwargs\": {\"column\": \"id\", \"max_value\": 10000, \"min_value\": 1, \"mostly\": 1.0, \"strict_max\": false, \"strict_min\": false}, \"expectation_type\": \"expect_column_values_to_be_between\"}"
      ]
     },
     "execution_count": 6,
     "metadata": {},
     "output_type": "execute_result"
    }
   ],
   "source": [
    "\n",
    "expectation_configuration = ExpectationConfiguration(**{\n",
    "  \"meta\": {\n",
    "    \"profiler_details\": {\n",
    "      \"column_max_values_range_estimator\": {\n",
    "        \"metric_configuration\": {\n",
    "          \"domain_kwargs\": {\n",
    "            \"column\": \"id\"\n",
    "          },\n",
    "          \"metric_name\": \"column.max\",\n",
    "          \"metric_value_kwargs\": None\n",
    "        },\n",
    "        \"num_batches\": 1\n",
    "      },\n",
    "      \"column_min_values_range_estimator\": {\n",
    "        \"metric_configuration\": {\n",
    "          \"domain_kwargs\": {\n",
    "            \"column\": \"id\"\n",
    "          },\n",
    "          \"metric_name\": \"column.min\",\n",
    "          \"metric_value_kwargs\": None\n",
    "        },\n",
    "        \"num_batches\": 1\n",
    "      }\n",
    "    }\n",
    "  },\n",
    "  \"expectation_type\": \"expect_column_values_to_be_between\",\n",
    "  \"kwargs\": {\n",
    "    \"column\": \"id\",\n",
    "    \"max_value\": 10000,\n",
    "    \"min_value\": 1,\n",
    "    \"mostly\": 1.0,\n",
    "    \"strict_max\": False,\n",
    "    \"strict_min\": False\n",
    "  }\n",
    "})\n",
    "suite.add_expectation(expectation_configuration=expectation_configuration)"
   ]
  },
  {
   "cell_type": "markdown",
   "id": "c8ac1a54",
   "metadata": {},
   "source": [
    "#### `product`"
   ]
  },
  {
   "cell_type": "code",
   "execution_count": 7,
   "id": "02c4ea32",
   "metadata": {},
   "outputs": [
    {
     "data": {
      "text/plain": [
       "{\"meta\": {\"profiler_details\": {\"metric_configuration\": {\"domain_kwargs\": {\"column\": \"product\"}, \"metric_name\": \"column_values.nonnull.unexpected_count\", \"metric_value_kwargs\": null}, \"num_batches\": 1}}, \"kwargs\": {\"column\": \"product\"}, \"expectation_type\": \"expect_column_values_to_not_be_null\"}"
      ]
     },
     "execution_count": 7,
     "metadata": {},
     "output_type": "execute_result"
    }
   ],
   "source": [
    "\n",
    "expectation_configuration = ExpectationConfiguration(**{\n",
    "  \"meta\": {\n",
    "    \"profiler_details\": {\n",
    "      \"metric_configuration\": {\n",
    "        \"domain_kwargs\": {\n",
    "          \"column\": \"product\"\n",
    "        },\n",
    "        \"metric_name\": \"column_values.nonnull.unexpected_count\",\n",
    "        \"metric_value_kwargs\": None\n",
    "      },\n",
    "      \"num_batches\": 1\n",
    "    }\n",
    "  },\n",
    "  \"expectation_type\": \"expect_column_values_to_not_be_null\",\n",
    "  \"kwargs\": {\n",
    "    \"column\": \"product\"\n",
    "  }\n",
    "})\n",
    "suite.add_expectation(expectation_configuration=expectation_configuration)"
   ]
  },
  {
   "cell_type": "code",
   "execution_count": 8,
   "id": "0674f15e",
   "metadata": {},
   "outputs": [
    {
     "data": {
      "text/plain": [
       "{\"meta\": {\"profiler_details\": {\"evaluated_regexes\": {\"(?:25[0-5]|2[0-4]\\\\d|[01]\\\\d{2}|\\\\d{1,2})(?:.(?:25[0-5]|2[0-4]\\\\d|[01]\\\\d{2}|\\\\d{1,2})){3}\": 0.0, \"-?\\\\d+\": 1.0, \"-?\\\\d+(?:\\\\.\\\\d*)?\": 1.0, \"<\\\\/?(?:p|a|b|img)(?: \\\\/)?>\": 0.0, \"[A-Za-z0-9\\\\.,;:!?()\\\\\\\"'%\\\\-]+\": 1.0, \"\\\\b[0-9a-fA-F]{8}\\\\b-[0-9a-fA-F]{4}-[0-5][0-9a-fA-F]{3}-[089ab][0-9a-fA-F]{3}-\\\\b[0-9a-fA-F]{12}\\\\b \": 0.0, \"\\\\d+\": 1.0, \"\\\\s+$\": 0.0, \"^\\\\s+\": 0.0, \"https?:\\\\/\\\\/(?:www\\\\.)?[-a-zA-Z0-9@:%._\\\\+~#=]{2,255}\\\\.[a-z]{2,6}\\\\b(?:[-a-zA-Z0-9@:%_\\\\+.~#()?&//=]*)\": 0.0}, \"success_ratio\": 1.0}}, \"kwargs\": {\"column\": \"product\", \"mostly\": 1.0, \"regex\": \"-?\\\\d+\"}, \"expectation_type\": \"expect_column_values_to_match_regex\"}"
      ]
     },
     "execution_count": 8,
     "metadata": {},
     "output_type": "execute_result"
    }
   ],
   "source": [
    "\n",
    "expectation_configuration = ExpectationConfiguration(**{\n",
    "  \"meta\": {\n",
    "    \"profiler_details\": {\n",
    "      \"evaluated_regexes\": {\n",
    "        \"(?:25[0-5]|2[0-4]\\\\d|[01]\\\\d{2}|\\\\d{1,2})(?:.(?:25[0-5]|2[0-4]\\\\d|[01]\\\\d{2}|\\\\d{1,2})){3}\": 0.0,\n",
    "        \"-?\\\\d+\": 1.0,\n",
    "        \"-?\\\\d+(?:\\\\.\\\\d*)?\": 1.0,\n",
    "        \"<\\\\/?(?:p|a|b|img)(?: \\\\/)?>\": 0.0,\n",
    "        \"[A-Za-z0-9\\\\.,;:!?()\\\\\\\"'%\\\\-]+\": 1.0,\n",
    "        \"\\\\b[0-9a-fA-F]{8}\\\\b-[0-9a-fA-F]{4}-[0-5][0-9a-fA-F]{3}-[089ab][0-9a-fA-F]{3}-\\\\b[0-9a-fA-F]{12}\\\\b \": 0.0,\n",
    "        \"\\\\d+\": 1.0,\n",
    "        \"\\\\s+$\": 0.0,\n",
    "        \"^\\\\s+\": 0.0,\n",
    "        \"https?:\\\\/\\\\/(?:www\\\\.)?[-a-zA-Z0-9@:%._\\\\+~#=]{2,255}\\\\.[a-z]{2,6}\\\\b(?:[-a-zA-Z0-9@:%_\\\\+.~#()?&//=]*)\": 0.0\n",
    "      },\n",
    "      \"success_ratio\": 1.0\n",
    "    }\n",
    "  },\n",
    "  \"expectation_type\": \"expect_column_values_to_match_regex\",\n",
    "  \"kwargs\": {\n",
    "    \"column\": \"product\",\n",
    "    \"mostly\": 1.0,\n",
    "    \"regex\": \"-?\\\\d+\"\n",
    "  }\n",
    "})\n",
    "suite.add_expectation(expectation_configuration=expectation_configuration)"
   ]
  },
  {
   "cell_type": "code",
   "execution_count": 9,
   "id": "4fa7d83c",
   "metadata": {},
   "outputs": [
    {
     "data": {
      "text/plain": [
       "{\"meta\": {\"profiler_details\": {\"metric_configuration\": {\"domain_kwargs\": {\"column\": \"product\"}, \"metric_name\": \"column.distinct_values\", \"metric_value_kwargs\": null}, \"num_batches\": 1, \"parse_strings_as_datetimes\": false}}, \"kwargs\": {\"column\": \"product\", \"mostly\": 1.0, \"value_set\": [\"ABI-L1b-RadC\"]}, \"expectation_type\": \"expect_column_values_to_be_in_set\"}"
      ]
     },
     "execution_count": 9,
     "metadata": {},
     "output_type": "execute_result"
    }
   ],
   "source": [
    "\n",
    "expectation_configuration = ExpectationConfiguration(**{\n",
    "  \"meta\": {\n",
    "    \"profiler_details\": {\n",
    "      \"metric_configuration\": {\n",
    "        \"domain_kwargs\": {\n",
    "          \"column\": \"product\"\n",
    "        },\n",
    "        \"metric_name\": \"column.distinct_values\",\n",
    "        \"metric_value_kwargs\": None\n",
    "      },\n",
    "      \"num_batches\": 1,\n",
    "      \"parse_strings_as_datetimes\": False\n",
    "    }\n",
    "  },\n",
    "  \"expectation_type\": \"expect_column_values_to_be_in_set\",\n",
    "  \"kwargs\": {\n",
    "    \"column\": \"product\",\n",
    "    \"mostly\": 1.0,\n",
    "    \"value_set\": [\n",
    "      \"ABI-L1b-RadC\"\n",
    "    ]\n",
    "  }\n",
    "})\n",
    "suite.add_expectation(expectation_configuration=expectation_configuration)"
   ]
  },
  {
   "cell_type": "markdown",
   "id": "ccbd68fa",
   "metadata": {},
   "source": [
    "#### `year`"
   ]
  },
  {
   "cell_type": "code",
   "execution_count": 10,
   "id": "cf923e2b",
   "metadata": {},
   "outputs": [
    {
     "data": {
      "text/plain": [
       "{\"meta\": {\"profiler_details\": {\"metric_configuration\": {\"domain_kwargs\": {\"column\": \"year\"}, \"metric_name\": \"column_values.nonnull.unexpected_count\", \"metric_value_kwargs\": null}, \"num_batches\": 1}}, \"kwargs\": {\"column\": \"year\"}, \"expectation_type\": \"expect_column_values_to_not_be_null\"}"
      ]
     },
     "execution_count": 10,
     "metadata": {},
     "output_type": "execute_result"
    }
   ],
   "source": [
    "\n",
    "expectation_configuration = ExpectationConfiguration(**{\n",
    "  \"meta\": {\n",
    "    \"profiler_details\": {\n",
    "      \"metric_configuration\": {\n",
    "        \"domain_kwargs\": {\n",
    "          \"column\": \"year\"\n",
    "        },\n",
    "        \"metric_name\": \"column_values.nonnull.unexpected_count\",\n",
    "        \"metric_value_kwargs\": None\n",
    "      },\n",
    "      \"num_batches\": 1\n",
    "    }\n",
    "  },\n",
    "  \"expectation_type\": \"expect_column_values_to_not_be_null\",\n",
    "  \"kwargs\": {\n",
    "    \"column\": \"year\"\n",
    "  }\n",
    "})\n",
    "suite.add_expectation(expectation_configuration=expectation_configuration)"
   ]
  },
  {
   "cell_type": "code",
   "execution_count": 11,
   "id": "22dd4cf0",
   "metadata": {},
   "outputs": [
    {
     "data": {
      "text/plain": [
       "{\"meta\": {\"profiler_details\": {\"column_max_values_range_estimator\": {\"metric_configuration\": {\"domain_kwargs\": {\"column\": \"year\"}, \"metric_name\": \"column.max\", \"metric_value_kwargs\": null}, \"num_batches\": 1}, \"column_min_values_range_estimator\": {\"metric_configuration\": {\"domain_kwargs\": {\"column\": \"year\"}, \"metric_name\": \"column.min\", \"metric_value_kwargs\": null}, \"num_batches\": 1}}}, \"kwargs\": {\"column\": \"year\", \"max_value\": 2023, \"min_value\": 2022, \"mostly\": 1.0, \"strict_max\": false, \"strict_min\": false}, \"expectation_type\": \"expect_column_values_to_be_between\"}"
      ]
     },
     "execution_count": 11,
     "metadata": {},
     "output_type": "execute_result"
    }
   ],
   "source": [
    "\n",
    "expectation_configuration = ExpectationConfiguration(**{\n",
    "  \"meta\": {\n",
    "    \"profiler_details\": {\n",
    "      \"column_max_values_range_estimator\": {\n",
    "        \"metric_configuration\": {\n",
    "          \"domain_kwargs\": {\n",
    "            \"column\": \"year\"\n",
    "          },\n",
    "          \"metric_name\": \"column.max\",\n",
    "          \"metric_value_kwargs\": None\n",
    "        },\n",
    "        \"num_batches\": 1\n",
    "      },\n",
    "      \"column_min_values_range_estimator\": {\n",
    "        \"metric_configuration\": {\n",
    "          \"domain_kwargs\": {\n",
    "            \"column\": \"year\"\n",
    "          },\n",
    "          \"metric_name\": \"column.min\",\n",
    "          \"metric_value_kwargs\": None\n",
    "        },\n",
    "        \"num_batches\": 1\n",
    "      }\n",
    "    }\n",
    "  },\n",
    "  \"expectation_type\": \"expect_column_values_to_be_between\",\n",
    "  \"kwargs\": {\n",
    "    \"column\": \"year\",\n",
    "    \"max_value\": 2023,\n",
    "    \"min_value\": 2022,\n",
    "    \"mostly\": 1.0,\n",
    "    \"strict_max\": False,\n",
    "    \"strict_min\": False\n",
    "  }\n",
    "})\n",
    "suite.add_expectation(expectation_configuration=expectation_configuration)"
   ]
  },
  {
   "cell_type": "markdown",
   "id": "1ed5493e",
   "metadata": {},
   "source": [
    "#### `day`"
   ]
  },
  {
   "cell_type": "code",
   "execution_count": 12,
   "id": "a76a6a53",
   "metadata": {},
   "outputs": [
    {
     "data": {
      "text/plain": [
       "{\"meta\": {\"profiler_details\": {\"metric_configuration\": {\"domain_kwargs\": {\"column\": \"day\"}, \"metric_name\": \"column_values.nonnull.unexpected_count\", \"metric_value_kwargs\": null}, \"num_batches\": 1}}, \"kwargs\": {\"column\": \"day\"}, \"expectation_type\": \"expect_column_values_to_not_be_null\"}"
      ]
     },
     "execution_count": 12,
     "metadata": {},
     "output_type": "execute_result"
    }
   ],
   "source": [
    "\n",
    "expectation_configuration = ExpectationConfiguration(**{\n",
    "  \"meta\": {\n",
    "    \"profiler_details\": {\n",
    "      \"metric_configuration\": {\n",
    "        \"domain_kwargs\": {\n",
    "          \"column\": \"day\"\n",
    "        },\n",
    "        \"metric_name\": \"column_values.nonnull.unexpected_count\",\n",
    "        \"metric_value_kwargs\": None\n",
    "      },\n",
    "      \"num_batches\": 1\n",
    "    }\n",
    "  },\n",
    "  \"expectation_type\": \"expect_column_values_to_not_be_null\",\n",
    "  \"kwargs\": {\n",
    "    \"column\": \"day\"\n",
    "  }\n",
    "})\n",
    "suite.add_expectation(expectation_configuration=expectation_configuration)"
   ]
  },
  {
   "cell_type": "code",
   "execution_count": 13,
   "id": "2e6684ca",
   "metadata": {},
   "outputs": [
    {
     "data": {
      "text/plain": [
       "{\"meta\": {\"profiler_details\": {\"column_max_values_range_estimator\": {\"metric_configuration\": {\"domain_kwargs\": {\"column\": \"day\"}, \"metric_name\": \"column.max\", \"metric_value_kwargs\": null}, \"num_batches\": 1}, \"column_min_values_range_estimator\": {\"metric_configuration\": {\"domain_kwargs\": {\"column\": \"day\"}, \"metric_name\": \"column.min\", \"metric_value_kwargs\": null}, \"num_batches\": 1}}}, \"kwargs\": {\"column\": \"day\", \"max_value\": 365, \"min_value\": 1, \"mostly\": 1.0, \"strict_max\": false, \"strict_min\": false}, \"expectation_type\": \"expect_column_values_to_be_between\"}"
      ]
     },
     "execution_count": 13,
     "metadata": {},
     "output_type": "execute_result"
    }
   ],
   "source": [
    "\n",
    "expectation_configuration = ExpectationConfiguration(**{\n",
    "  \"meta\": {\n",
    "    \"profiler_details\": {\n",
    "      \"column_max_values_range_estimator\": {\n",
    "        \"metric_configuration\": {\n",
    "          \"domain_kwargs\": {\n",
    "            \"column\": \"day\"\n",
    "          },\n",
    "          \"metric_name\": \"column.max\",\n",
    "          \"metric_value_kwargs\": None\n",
    "        },\n",
    "        \"num_batches\": 1\n",
    "      },\n",
    "      \"column_min_values_range_estimator\": {\n",
    "        \"metric_configuration\": {\n",
    "          \"domain_kwargs\": {\n",
    "            \"column\": \"day\"\n",
    "          },\n",
    "          \"metric_name\": \"column.min\",\n",
    "          \"metric_value_kwargs\": None\n",
    "        },\n",
    "        \"num_batches\": 1\n",
    "      }\n",
    "    }\n",
    "  },\n",
    "  \"expectation_type\": \"expect_column_values_to_be_between\",\n",
    "  \"kwargs\": {\n",
    "    \"column\": \"day\",\n",
    "    \"max_value\": 365,\n",
    "    \"min_value\": 1,\n",
    "    \"mostly\": 1.0,\n",
    "    \"strict_max\": False,\n",
    "    \"strict_min\": False\n",
    "  }\n",
    "})\n",
    "suite.add_expectation(expectation_configuration=expectation_configuration)"
   ]
  },
  {
   "cell_type": "markdown",
   "id": "074b84e8",
   "metadata": {},
   "source": [
    "#### `hour`"
   ]
  },
  {
   "cell_type": "code",
   "execution_count": 14,
   "id": "e643ffe4",
   "metadata": {},
   "outputs": [
    {
     "data": {
      "text/plain": [
       "{\"meta\": {\"profiler_details\": {\"metric_configuration\": {\"domain_kwargs\": {\"column\": \"hour\"}, \"metric_name\": \"column_values.nonnull.unexpected_count\", \"metric_value_kwargs\": null}, \"num_batches\": 1}}, \"kwargs\": {\"column\": \"hour\"}, \"expectation_type\": \"expect_column_values_to_not_be_null\"}"
      ]
     },
     "execution_count": 14,
     "metadata": {},
     "output_type": "execute_result"
    }
   ],
   "source": [
    "\n",
    "expectation_configuration = ExpectationConfiguration(**{\n",
    "  \"meta\": {\n",
    "    \"profiler_details\": {\n",
    "      \"metric_configuration\": {\n",
    "        \"domain_kwargs\": {\n",
    "          \"column\": \"hour\"\n",
    "        },\n",
    "        \"metric_name\": \"column_values.nonnull.unexpected_count\",\n",
    "        \"metric_value_kwargs\": None\n",
    "      },\n",
    "      \"num_batches\": 1\n",
    "    }\n",
    "  },\n",
    "  \"expectation_type\": \"expect_column_values_to_not_be_null\",\n",
    "  \"kwargs\": {\n",
    "    \"column\": \"hour\"\n",
    "  }\n",
    "})\n",
    "suite.add_expectation(expectation_configuration=expectation_configuration)"
   ]
  },
  {
   "cell_type": "code",
   "execution_count": 15,
   "id": "d019559f",
   "metadata": {},
   "outputs": [
    {
     "data": {
      "text/plain": [
       "{\"meta\": {\"profiler_details\": {\"column_max_values_range_estimator\": {\"metric_configuration\": {\"domain_kwargs\": {\"column\": \"hour\"}, \"metric_name\": \"column.max\", \"metric_value_kwargs\": null}, \"num_batches\": 1}, \"column_min_values_range_estimator\": {\"metric_configuration\": {\"domain_kwargs\": {\"column\": \"hour\"}, \"metric_name\": \"column.min\", \"metric_value_kwargs\": null}, \"num_batches\": 1}}}, \"kwargs\": {\"column\": \"hour\", \"max_value\": 23, \"min_value\": 0, \"mostly\": 1.0, \"strict_max\": false, \"strict_min\": false}, \"expectation_type\": \"expect_column_values_to_be_between\"}"
      ]
     },
     "execution_count": 15,
     "metadata": {},
     "output_type": "execute_result"
    }
   ],
   "source": [
    "\n",
    "expectation_configuration = ExpectationConfiguration(**{\n",
    "  \"meta\": {\n",
    "    \"profiler_details\": {\n",
    "      \"column_max_values_range_estimator\": {\n",
    "        \"metric_configuration\": {\n",
    "          \"domain_kwargs\": {\n",
    "            \"column\": \"hour\"\n",
    "          },\n",
    "          \"metric_name\": \"column.max\",\n",
    "          \"metric_value_kwargs\": None\n",
    "        },\n",
    "        \"num_batches\": 1\n",
    "      },\n",
    "      \"column_min_values_range_estimator\": {\n",
    "        \"metric_configuration\": {\n",
    "          \"domain_kwargs\": {\n",
    "            \"column\": \"hour\"\n",
    "          },\n",
    "          \"metric_name\": \"column.min\",\n",
    "          \"metric_value_kwargs\": None\n",
    "        },\n",
    "        \"num_batches\": 1\n",
    "      }\n",
    "    }\n",
    "  },\n",
    "  \"expectation_type\": \"expect_column_values_to_be_between\",\n",
    "  \"kwargs\": {\n",
    "    \"column\": \"hour\",\n",
    "    \"max_value\": 23,\n",
    "    \"min_value\": 0,\n",
    "    \"mostly\": 1.0,\n",
    "    \"strict_max\": False,\n",
    "    \"strict_min\": False\n",
    "  }\n",
    "})\n",
    "suite.add_expectation(expectation_configuration=expectation_configuration)"
   ]
  },
  {
   "cell_type": "markdown",
   "id": "6f5c889d",
   "metadata": {},
   "source": [
    "## Review & Save Your Expectations\n",
    "\n",
    "Let's save the expectation suite as a JSON file in the `great_expectations/expectations` directory of your project.\n",
    "\n",
    "Let's now rebuild your Data Docs, which helps you communicate about your data with both machines and humans."
   ]
  },
  {
   "cell_type": "code",
   "execution_count": 16,
   "id": "063b1078",
   "metadata": {},
   "outputs": [
    {
     "name": "stdout",
     "output_type": "stream",
     "text": [
      "{\n",
      "  \"data_asset_type\": null,\n",
      "  \"meta\": {\n",
      "    \"citations\": [\n",
      "      {\n",
      "        \"citation_date\": \"2023-02-09T21:03:08.472432Z\",\n",
      "        \"comment\": \"Created by effective Rule-Based Profiler of OnboardingDataAssistant with the configuration included.\\n\"\n",
      "      }\n",
      "    ],\n",
      "    \"great_expectations_version\": \"0.15.47\"\n",
      "  },\n",
      "  \"expectations\": [\n",
      "    {\n",
      "      \"meta\": {\n",
      "        \"profiler_details\": {\n",
      "          \"metric_configuration\": {\n",
      "            \"domain_kwargs\": {},\n",
      "            \"metric_name\": \"table.row_count\",\n",
      "            \"metric_value_kwargs\": null\n",
      "          },\n",
      "          \"num_batches\": 1\n",
      "        }\n",
      "      },\n",
      "      \"kwargs\": {\n",
      "        \"max_value\": 10000,\n",
      "        \"min_value\": 0\n",
      "      },\n",
      "      \"expectation_type\": \"expect_table_row_count_to_be_between\"\n",
      "    },\n",
      "    {\n",
      "      \"meta\": {\n",
      "        \"profiler_details\": {\n",
      "          \"success_ratio\": 1.0\n",
      "        }\n",
      "      },\n",
      "      \"kwargs\": {\n",
      "        \"column_set\": [\n",
      "          \"day\",\n",
      "          \"id\",\n",
      "          \"hour\",\n",
      "          \"product\",\n",
      "          \"year\",\n",
      "          \"Unnamed: 0\"\n",
      "        ],\n",
      "        \"exact_match\": null\n",
      "      },\n",
      "      \"expectation_type\": \"expect_table_columns_to_match_set\"\n",
      "    },\n",
      "    {\n",
      "      \"meta\": {\n",
      "        \"profiler_details\": {\n",
      "          \"metric_configuration\": {\n",
      "            \"domain_kwargs\": {\n",
      "              \"column\": \"id\"\n",
      "            },\n",
      "            \"metric_name\": \"column_values.unique.unexpected_count\",\n",
      "            \"metric_value_kwargs\": null\n",
      "          },\n",
      "          \"num_batches\": 1\n",
      "        }\n",
      "      },\n",
      "      \"kwargs\": {\n",
      "        \"column\": \"id\"\n",
      "      },\n",
      "      \"expectation_type\": \"expect_column_values_to_be_unique\"\n",
      "    },\n",
      "    {\n",
      "      \"meta\": {\n",
      "        \"profiler_details\": {\n",
      "          \"metric_configuration\": {\n",
      "            \"domain_kwargs\": {\n",
      "              \"column\": \"id\"\n",
      "            },\n",
      "            \"metric_name\": \"column_values.nonnull.unexpected_count\",\n",
      "            \"metric_value_kwargs\": null\n",
      "          },\n",
      "          \"num_batches\": 1\n",
      "        }\n",
      "      },\n",
      "      \"kwargs\": {\n",
      "        \"column\": \"id\"\n",
      "      },\n",
      "      \"expectation_type\": \"expect_column_values_to_not_be_null\"\n",
      "    },\n",
      "    {\n",
      "      \"meta\": {\n",
      "        \"profiler_details\": {\n",
      "          \"metric_configuration\": {\n",
      "            \"domain_kwargs\": {\n",
      "              \"column\": \"product\"\n",
      "            },\n",
      "            \"metric_name\": \"column_values.nonnull.unexpected_count\",\n",
      "            \"metric_value_kwargs\": null\n",
      "          },\n",
      "          \"num_batches\": 1\n",
      "        }\n",
      "      },\n",
      "      \"kwargs\": {\n",
      "        \"column\": \"product\"\n",
      "      },\n",
      "      \"expectation_type\": \"expect_column_values_to_not_be_null\"\n",
      "    },\n",
      "    {\n",
      "      \"meta\": {\n",
      "        \"profiler_details\": {\n",
      "          \"metric_configuration\": {\n",
      "            \"domain_kwargs\": {\n",
      "              \"column\": \"year\"\n",
      "            },\n",
      "            \"metric_name\": \"column_values.nonnull.unexpected_count\",\n",
      "            \"metric_value_kwargs\": null\n",
      "          },\n",
      "          \"num_batches\": 1\n",
      "        }\n",
      "      },\n",
      "      \"kwargs\": {\n",
      "        \"column\": \"year\"\n",
      "      },\n",
      "      \"expectation_type\": \"expect_column_values_to_not_be_null\"\n",
      "    },\n",
      "    {\n",
      "      \"meta\": {\n",
      "        \"profiler_details\": {\n",
      "          \"metric_configuration\": {\n",
      "            \"domain_kwargs\": {\n",
      "              \"column\": \"day\"\n",
      "            },\n",
      "            \"metric_name\": \"column_values.nonnull.unexpected_count\",\n",
      "            \"metric_value_kwargs\": null\n",
      "          },\n",
      "          \"num_batches\": 1\n",
      "        }\n",
      "      },\n",
      "      \"kwargs\": {\n",
      "        \"column\": \"day\"\n",
      "      },\n",
      "      \"expectation_type\": \"expect_column_values_to_not_be_null\"\n",
      "    },\n",
      "    {\n",
      "      \"meta\": {\n",
      "        \"profiler_details\": {\n",
      "          \"metric_configuration\": {\n",
      "            \"domain_kwargs\": {\n",
      "              \"column\": \"hour\"\n",
      "            },\n",
      "            \"metric_name\": \"column_values.nonnull.unexpected_count\",\n",
      "            \"metric_value_kwargs\": null\n",
      "          },\n",
      "          \"num_batches\": 1\n",
      "        }\n",
      "      },\n",
      "      \"kwargs\": {\n",
      "        \"column\": \"hour\"\n",
      "      },\n",
      "      \"expectation_type\": \"expect_column_values_to_not_be_null\"\n",
      "    },\n",
      "    {\n",
      "      \"meta\": {\n",
      "        \"profiler_details\": {\n",
      "          \"column_max_values_range_estimator\": {\n",
      "            \"metric_configuration\": {\n",
      "              \"domain_kwargs\": {\n",
      "                \"column\": \"id\"\n",
      "              },\n",
      "              \"metric_name\": \"column.max\",\n",
      "              \"metric_value_kwargs\": null\n",
      "            },\n",
      "            \"num_batches\": 1\n",
      "          },\n",
      "          \"column_min_values_range_estimator\": {\n",
      "            \"metric_configuration\": {\n",
      "              \"domain_kwargs\": {\n",
      "                \"column\": \"id\"\n",
      "              },\n",
      "              \"metric_name\": \"column.min\",\n",
      "              \"metric_value_kwargs\": null\n",
      "            },\n",
      "            \"num_batches\": 1\n",
      "          }\n",
      "        }\n",
      "      },\n",
      "      \"kwargs\": {\n",
      "        \"column\": \"id\",\n",
      "        \"max_value\": 10000,\n",
      "        \"min_value\": 1,\n",
      "        \"mostly\": 1.0,\n",
      "        \"strict_max\": false,\n",
      "        \"strict_min\": false\n",
      "      },\n",
      "      \"expectation_type\": \"expect_column_values_to_be_between\"\n",
      "    },\n",
      "    {\n",
      "      \"meta\": {\n",
      "        \"profiler_details\": {\n",
      "          \"column_max_values_range_estimator\": {\n",
      "            \"metric_configuration\": {\n",
      "              \"domain_kwargs\": {\n",
      "                \"column\": \"year\"\n",
      "              },\n",
      "              \"metric_name\": \"column.max\",\n",
      "              \"metric_value_kwargs\": null\n",
      "            },\n",
      "            \"num_batches\": 1\n",
      "          },\n",
      "          \"column_min_values_range_estimator\": {\n",
      "            \"metric_configuration\": {\n",
      "              \"domain_kwargs\": {\n",
      "                \"column\": \"year\"\n",
      "              },\n",
      "              \"metric_name\": \"column.min\",\n",
      "              \"metric_value_kwargs\": null\n",
      "            },\n",
      "            \"num_batches\": 1\n",
      "          }\n",
      "        }\n",
      "      },\n",
      "      \"kwargs\": {\n",
      "        \"column\": \"year\",\n",
      "        \"max_value\": 2023,\n",
      "        \"min_value\": 2022,\n",
      "        \"mostly\": 1.0,\n",
      "        \"strict_max\": false,\n",
      "        \"strict_min\": false\n",
      "      },\n",
      "      \"expectation_type\": \"expect_column_values_to_be_between\"\n",
      "    },\n",
      "    {\n",
      "      \"meta\": {\n",
      "        \"profiler_details\": {\n",
      "          \"column_max_values_range_estimator\": {\n",
      "            \"metric_configuration\": {\n",
      "              \"domain_kwargs\": {\n",
      "                \"column\": \"day\"\n",
      "              },\n",
      "              \"metric_name\": \"column.max\",\n",
      "              \"metric_value_kwargs\": null\n",
      "            },\n",
      "            \"num_batches\": 1\n",
      "          },\n",
      "          \"column_min_values_range_estimator\": {\n",
      "            \"metric_configuration\": {\n",
      "              \"domain_kwargs\": {\n",
      "                \"column\": \"day\"\n",
      "              },\n",
      "              \"metric_name\": \"column.min\",\n",
      "              \"metric_value_kwargs\": null\n",
      "            },\n",
      "            \"num_batches\": 1\n",
      "          }\n",
      "        }\n",
      "      },\n",
      "      \"kwargs\": {\n",
      "        \"column\": \"day\",\n",
      "        \"max_value\": 365,\n",
      "        \"min_value\": 1,\n",
      "        \"mostly\": 1.0,\n",
      "        \"strict_max\": false,\n",
      "        \"strict_min\": false\n",
      "      },\n",
      "      \"expectation_type\": \"expect_column_values_to_be_between\"\n",
      "    },\n",
      "    {\n",
      "      \"meta\": {\n",
      "        \"profiler_details\": {\n",
      "          \"column_max_values_range_estimator\": {\n",
      "            \"metric_configuration\": {\n",
      "              \"domain_kwargs\": {\n",
      "                \"column\": \"hour\"\n",
      "              },\n",
      "              \"metric_name\": \"column.max\",\n",
      "              \"metric_value_kwargs\": null\n",
      "            },\n",
      "            \"num_batches\": 1\n",
      "          },\n",
      "          \"column_min_values_range_estimator\": {\n",
      "            \"metric_configuration\": {\n",
      "              \"domain_kwargs\": {\n",
      "                \"column\": \"hour\"\n",
      "              },\n",
      "              \"metric_name\": \"column.min\",\n",
      "              \"metric_value_kwargs\": null\n",
      "            },\n",
      "            \"num_batches\": 1\n",
      "          }\n",
      "        }\n",
      "      },\n",
      "      \"kwargs\": {\n",
      "        \"column\": \"hour\",\n",
      "        \"max_value\": 23,\n",
      "        \"min_value\": 0,\n",
      "        \"mostly\": 1.0,\n",
      "        \"strict_max\": false,\n",
      "        \"strict_min\": false\n",
      "      },\n",
      "      \"expectation_type\": \"expect_column_values_to_be_between\"\n",
      "    },\n",
      "    {\n",
      "      \"meta\": {\n",
      "        \"profiler_details\": {\n",
      "          \"evaluated_regexes\": {\n",
      "            \"(?:25[0-5]|2[0-4]\\\\d|[01]\\\\d{2}|\\\\d{1,2})(?:.(?:25[0-5]|2[0-4]\\\\d|[01]\\\\d{2}|\\\\d{1,2})){3}\": 0.0,\n",
      "            \"-?\\\\d+\": 1.0,\n",
      "            \"-?\\\\d+(?:\\\\.\\\\d*)?\": 1.0,\n",
      "            \"<\\\\/?(?:p|a|b|img)(?: \\\\/)?>\": 0.0,\n",
      "            \"[A-Za-z0-9\\\\.,;:!?()\\\\\\\"'%\\\\-]+\": 1.0,\n",
      "            \"\\\\b[0-9a-fA-F]{8}\\\\b-[0-9a-fA-F]{4}-[0-5][0-9a-fA-F]{3}-[089ab][0-9a-fA-F]{3}-\\\\b[0-9a-fA-F]{12}\\\\b \": 0.0,\n",
      "            \"\\\\d+\": 1.0,\n",
      "            \"\\\\s+$\": 0.0,\n",
      "            \"^\\\\s+\": 0.0,\n",
      "            \"https?:\\\\/\\\\/(?:www\\\\.)?[-a-zA-Z0-9@:%._\\\\+~#=]{2,255}\\\\.[a-z]{2,6}\\\\b(?:[-a-zA-Z0-9@:%_\\\\+.~#()?&//=]*)\": 0.0\n",
      "          },\n",
      "          \"success_ratio\": 1.0\n",
      "        }\n",
      "      },\n",
      "      \"kwargs\": {\n",
      "        \"column\": \"product\",\n",
      "        \"mostly\": 1.0,\n",
      "        \"regex\": \"-?\\\\d+\"\n",
      "      },\n",
      "      \"expectation_type\": \"expect_column_values_to_match_regex\"\n",
      "    },\n",
      "    {\n",
      "      \"meta\": {\n",
      "        \"profiler_details\": {\n",
      "          \"metric_configuration\": {\n",
      "            \"domain_kwargs\": {\n",
      "              \"column\": \"product\"\n",
      "            },\n",
      "            \"metric_name\": \"column.distinct_values\",\n",
      "            \"metric_value_kwargs\": null\n",
      "          },\n",
      "          \"num_batches\": 1,\n",
      "          \"parse_strings_as_datetimes\": false\n",
      "        }\n",
      "      },\n",
      "      \"kwargs\": {\n",
      "        \"column\": \"product\",\n",
      "        \"mostly\": 1.0,\n",
      "        \"value_set\": [\n",
      "          \"ABI-L1b-RadC\"\n",
      "        ]\n",
      "      },\n",
      "      \"expectation_type\": \"expect_column_values_to_be_in_set\"\n",
      "    }\n",
      "  ],\n",
      "  \"ge_cloud_id\": null,\n",
      "  \"expectation_suite_name\": \"goes18_suite\"\n",
      "}\n"
     ]
    }
   ],
   "source": [
    "print(context.get_expectation_suite(expectation_suite_name=expectation_suite_name))\n",
    "context.save_expectation_suite(expectation_suite=suite, expectation_suite_name=expectation_suite_name)\n",
    "\n",
    "suite_identifier = ExpectationSuiteIdentifier(expectation_suite_name=expectation_suite_name)\n",
    "context.build_data_docs(resource_identifiers=[suite_identifier])\n",
    "context.open_data_docs(resource_identifier=suite_identifier)"
   ]
  }
 ],
 "metadata": {
  "kernelspec": {
   "display_name": "Python 3 (ipykernel)",
   "language": "python",
   "name": "python3"
  },
  "language_info": {
   "codemirror_mode": {
    "name": "ipython",
    "version": 3
   },
   "file_extension": ".py",
   "mimetype": "text/x-python",
   "name": "python",
   "nbconvert_exporter": "python",
   "pygments_lexer": "ipython3",
   "version": "3.11.1"
  }
 },
 "nbformat": 4,
 "nbformat_minor": 5
}
